{
 "cells": [
  {
   "cell_type": "markdown",
   "id": "9ecc8d1b-e775-4178-a7c8-149b5f4b2db5",
   "metadata": {},
   "source": [
    "## Gathering csv data"
   ]
  },
  {
   "cell_type": "code",
   "execution_count": 1,
   "id": "28082413-afe7-4aa6-85bd-67e8e61455ef",
   "metadata": {},
   "outputs": [],
   "source": [
    "import os\n",
    "import pandas as pd\n",
    "from bokeh.plotting import figure, show, save\n",
    "from bokeh.models import Legend, LegendItem\n",
    "from bokeh.palettes import Turbo256"
   ]
  },
  {
   "cell_type": "code",
   "execution_count": 2,
   "id": "781e2cbf-b703-401d-b9ef-64839a88471e",
   "metadata": {},
   "outputs": [
    {
     "data": {
      "text/plain": [
       "['Order_26973_Pkg_64010.zip',\n",
       " 'CropProductionPerYearInAlberta.html',\n",
       " '.ipynb_checkpoints',\n",
       " 'Municipal_Boundaries_SHP_Geographic',\n",
       " 'TotalCropProductionPerYearInAlberta.html',\n",
       " 'cropsByCounty.csv',\n",
       " 'plot_crop_production.ipynb',\n",
       " 'stcmajorcropproductioncsvv6.02015-06-08.csv']"
      ]
     },
     "execution_count": 2,
     "metadata": {},
     "output_type": "execute_result"
    }
   ],
   "source": [
    "files = os.listdir(os.getcwd())\n",
    "files"
   ]
  },
  {
   "cell_type": "code",
   "execution_count": 3,
   "id": "71aa662d-70cc-4547-8e33-6c91ceacf5cf",
   "metadata": {},
   "outputs": [],
   "source": [
    "# This is bad, I should not be hardcoding this\n",
    "csv_file = files[-1]"
   ]
  },
  {
   "cell_type": "code",
   "execution_count": 4,
   "id": "d4349b5c-9f99-4346-8361-ba6d8663ae42",
   "metadata": {},
   "outputs": [],
   "source": [
    "crops_df = pd.read_csv(csv_file)"
   ]
  },
  {
   "cell_type": "code",
   "execution_count": 5,
   "id": "8f374c59-56cf-43b5-9e46-9a5507c4caf3",
   "metadata": {},
   "outputs": [
    {
     "data": {
      "text/html": [
       "<div>\n",
       "<style scoped>\n",
       "    .dataframe tbody tr th:only-of-type {\n",
       "        vertical-align: middle;\n",
       "    }\n",
       "\n",
       "    .dataframe tbody tr th {\n",
       "        vertical-align: top;\n",
       "    }\n",
       "\n",
       "    .dataframe thead th {\n",
       "        text-align: right;\n",
       "    }\n",
       "</style>\n",
       "<table border=\"1\" class=\"dataframe\">\n",
       "  <thead>\n",
       "    <tr style=\"text-align: right;\">\n",
       "      <th></th>\n",
       "      <th>Year</th>\n",
       "      <th>Geography</th>\n",
       "      <th>Crop</th>\n",
       "      <th>Production (Million Tonnes)</th>\n",
       "      <th>notes</th>\n",
       "    </tr>\n",
       "  </thead>\n",
       "  <tbody>\n",
       "    <tr>\n",
       "      <th>0</th>\n",
       "      <td>2000</td>\n",
       "      <td>Alberta</td>\n",
       "      <td>Barley</td>\n",
       "      <td>5.27</td>\n",
       "      <td>NaN</td>\n",
       "    </tr>\n",
       "    <tr>\n",
       "      <th>1</th>\n",
       "      <td>2000</td>\n",
       "      <td>Alberta</td>\n",
       "      <td>Beans, all dry</td>\n",
       "      <td>0.04</td>\n",
       "      <td>NaN</td>\n",
       "    </tr>\n",
       "    <tr>\n",
       "      <th>2</th>\n",
       "      <td>2000</td>\n",
       "      <td>Alberta</td>\n",
       "      <td>Canary seed</td>\n",
       "      <td>0.01</td>\n",
       "      <td>NaN</td>\n",
       "    </tr>\n",
       "    <tr>\n",
       "      <th>3</th>\n",
       "      <td>2000</td>\n",
       "      <td>Alberta</td>\n",
       "      <td>Canola</td>\n",
       "      <td>2.19</td>\n",
       "      <td>NaN</td>\n",
       "    </tr>\n",
       "    <tr>\n",
       "      <th>4</th>\n",
       "      <td>2000</td>\n",
       "      <td>Alberta</td>\n",
       "      <td>Chick peas</td>\n",
       "      <td>0.02</td>\n",
       "      <td>NaN</td>\n",
       "    </tr>\n",
       "    <tr>\n",
       "      <th>...</th>\n",
       "      <td>...</td>\n",
       "      <td>...</td>\n",
       "      <td>...</td>\n",
       "      <td>...</td>\n",
       "      <td>...</td>\n",
       "    </tr>\n",
       "    <tr>\n",
       "      <th>332</th>\n",
       "      <td>2014</td>\n",
       "      <td>Alberta</td>\n",
       "      <td>Wheat, all</td>\n",
       "      <td>9.35</td>\n",
       "      <td>NaN</td>\n",
       "    </tr>\n",
       "    <tr>\n",
       "      <th>333</th>\n",
       "      <td>2014</td>\n",
       "      <td>Alberta</td>\n",
       "      <td>Wheat, durum</td>\n",
       "      <td>0.71</td>\n",
       "      <td>NaN</td>\n",
       "    </tr>\n",
       "    <tr>\n",
       "      <th>334</th>\n",
       "      <td>2014</td>\n",
       "      <td>Alberta</td>\n",
       "      <td>Wheat, spring</td>\n",
       "      <td>8.37</td>\n",
       "      <td>NaN</td>\n",
       "    </tr>\n",
       "    <tr>\n",
       "      <th>335</th>\n",
       "      <td>2014</td>\n",
       "      <td>Alberta</td>\n",
       "      <td>Wheat, winter</td>\n",
       "      <td>0.27</td>\n",
       "      <td>NaN</td>\n",
       "    </tr>\n",
       "    <tr>\n",
       "      <th>336</th>\n",
       "      <td>2014</td>\n",
       "      <td>Alberta</td>\n",
       "      <td>Total - All Crops</td>\n",
       "      <td>30.17</td>\n",
       "      <td>NaN</td>\n",
       "    </tr>\n",
       "  </tbody>\n",
       "</table>\n",
       "<p>337 rows × 5 columns</p>\n",
       "</div>"
      ],
      "text/plain": [
       "     Year Geography               Crop  Production (Million Tonnes)  notes\n",
       "0    2000   Alberta            Barley                          5.27    NaN\n",
       "1    2000   Alberta     Beans, all dry                         0.04    NaN\n",
       "2    2000   Alberta        Canary seed                         0.01    NaN\n",
       "3    2000   Alberta            Canola                          2.19    NaN\n",
       "4    2000   Alberta         Chick peas                         0.02    NaN\n",
       "..    ...       ...                ...                          ...    ...\n",
       "332  2014   Alberta        Wheat, all                          9.35    NaN\n",
       "333  2014   Alberta      Wheat, durum                          0.71    NaN\n",
       "334  2014   Alberta     Wheat, spring                          8.37    NaN\n",
       "335  2014   Alberta      Wheat, winter                         0.27    NaN\n",
       "336  2014   Alberta  Total - All Crops                        30.17    NaN\n",
       "\n",
       "[337 rows x 5 columns]"
      ]
     },
     "execution_count": 5,
     "metadata": {},
     "output_type": "execute_result"
    }
   ],
   "source": [
    "crops_df"
   ]
  },
  {
   "cell_type": "markdown",
   "id": "c1738855-bc4d-41ed-83f4-968d341c61e4",
   "metadata": {},
   "source": [
    "## Do some data manipulation"
   ]
  },
  {
   "cell_type": "code",
   "execution_count": 6,
   "id": "3227031b-d6d3-4a07-b307-74d5b4cf995c",
   "metadata": {},
   "outputs": [
    {
     "name": "stdout",
     "output_type": "stream",
     "text": [
      "['Corn, fodder ', 'Oats ', 'Mixed grains ', 'Mustard seed', 'Peas, dry ', 'Wheat, spring ', 'Fababeans', 'Sugar beets', 'Corn for grain', 'Canola ', 'Canary seed', 'Sunflower seed', 'Tame hay ', 'Barley ', 'Lentils', 'Safflower', 'Flaxseed ', 'Wheat, winter', 'Fall Rye', 'Triticale ', 'Wheat, durum ', 'Chick peas']\n"
     ]
    },
    {
     "data": {
      "text/html": [
       "<div>\n",
       "<style scoped>\n",
       "    .dataframe tbody tr th:only-of-type {\n",
       "        vertical-align: middle;\n",
       "    }\n",
       "\n",
       "    .dataframe tbody tr th {\n",
       "        vertical-align: top;\n",
       "    }\n",
       "\n",
       "    .dataframe thead th {\n",
       "        text-align: right;\n",
       "    }\n",
       "</style>\n",
       "<table border=\"1\" class=\"dataframe\">\n",
       "  <thead>\n",
       "    <tr style=\"text-align: right;\">\n",
       "      <th></th>\n",
       "      <th>Year</th>\n",
       "      <th>Geography</th>\n",
       "      <th>Crop</th>\n",
       "      <th>Production (Million Tonnes)</th>\n",
       "      <th>notes</th>\n",
       "    </tr>\n",
       "  </thead>\n",
       "  <tbody>\n",
       "    <tr>\n",
       "      <th>0</th>\n",
       "      <td>2000</td>\n",
       "      <td>Alberta</td>\n",
       "      <td>Barley</td>\n",
       "      <td>5.27</td>\n",
       "      <td>NaN</td>\n",
       "    </tr>\n",
       "    <tr>\n",
       "      <th>2</th>\n",
       "      <td>2000</td>\n",
       "      <td>Alberta</td>\n",
       "      <td>Canary seed</td>\n",
       "      <td>0.01</td>\n",
       "      <td>NaN</td>\n",
       "    </tr>\n",
       "    <tr>\n",
       "      <th>3</th>\n",
       "      <td>2000</td>\n",
       "      <td>Alberta</td>\n",
       "      <td>Canola</td>\n",
       "      <td>2.19</td>\n",
       "      <td>NaN</td>\n",
       "    </tr>\n",
       "    <tr>\n",
       "      <th>4</th>\n",
       "      <td>2000</td>\n",
       "      <td>Alberta</td>\n",
       "      <td>Chick peas</td>\n",
       "      <td>0.02</td>\n",
       "      <td>NaN</td>\n",
       "    </tr>\n",
       "    <tr>\n",
       "      <th>5</th>\n",
       "      <td>2000</td>\n",
       "      <td>Alberta</td>\n",
       "      <td>Corn for grain</td>\n",
       "      <td>0.03</td>\n",
       "      <td>NaN</td>\n",
       "    </tr>\n",
       "    <tr>\n",
       "      <th>...</th>\n",
       "      <td>...</td>\n",
       "      <td>...</td>\n",
       "      <td>...</td>\n",
       "      <td>...</td>\n",
       "      <td>...</td>\n",
       "    </tr>\n",
       "    <tr>\n",
       "      <th>330</th>\n",
       "      <td>2014</td>\n",
       "      <td>Alberta</td>\n",
       "      <td>Tame hay</td>\n",
       "      <td>7.26</td>\n",
       "      <td>NaN</td>\n",
       "    </tr>\n",
       "    <tr>\n",
       "      <th>331</th>\n",
       "      <td>2014</td>\n",
       "      <td>Alberta</td>\n",
       "      <td>Triticale</td>\n",
       "      <td>0.02</td>\n",
       "      <td>NaN</td>\n",
       "    </tr>\n",
       "    <tr>\n",
       "      <th>333</th>\n",
       "      <td>2014</td>\n",
       "      <td>Alberta</td>\n",
       "      <td>Wheat, durum</td>\n",
       "      <td>0.71</td>\n",
       "      <td>NaN</td>\n",
       "    </tr>\n",
       "    <tr>\n",
       "      <th>334</th>\n",
       "      <td>2014</td>\n",
       "      <td>Alberta</td>\n",
       "      <td>Wheat, spring</td>\n",
       "      <td>8.37</td>\n",
       "      <td>NaN</td>\n",
       "    </tr>\n",
       "    <tr>\n",
       "      <th>335</th>\n",
       "      <td>2014</td>\n",
       "      <td>Alberta</td>\n",
       "      <td>Wheat, winter</td>\n",
       "      <td>0.27</td>\n",
       "      <td>NaN</td>\n",
       "    </tr>\n",
       "  </tbody>\n",
       "</table>\n",
       "<p>282 rows × 5 columns</p>\n",
       "</div>"
      ],
      "text/plain": [
       "     Year Geography            Crop  Production (Million Tonnes)  notes\n",
       "0    2000   Alberta         Barley                          5.27    NaN\n",
       "2    2000   Alberta     Canary seed                         0.01    NaN\n",
       "3    2000   Alberta         Canola                          2.19    NaN\n",
       "4    2000   Alberta      Chick peas                         0.02    NaN\n",
       "5    2000   Alberta  Corn for grain                         0.03    NaN\n",
       "..    ...       ...             ...                          ...    ...\n",
       "330  2014   Alberta       Tame hay                          7.26    NaN\n",
       "331  2014   Alberta      Triticale                          0.02    NaN\n",
       "333  2014   Alberta   Wheat, durum                          0.71    NaN\n",
       "334  2014   Alberta  Wheat, spring                          8.37    NaN\n",
       "335  2014   Alberta   Wheat, winter                         0.27    NaN\n",
       "\n",
       "[282 rows x 5 columns]"
      ]
     },
     "execution_count": 6,
     "metadata": {},
     "output_type": "execute_result"
    }
   ],
   "source": [
    "crops_df_individual = crops_df[~(crops_df['Crop'].str.contains(', all')) & ~(crops_df['Crop'].str.contains('Total - '))]\n",
    "print(list(set(crops_df_individual['Crop'].values)))\n",
    "crops_df_individual"
   ]
  },
  {
   "cell_type": "markdown",
   "id": "a9cf36af-15ae-4aeb-9e4e-cf815be5ba03",
   "metadata": {},
   "source": [
    "## Do the Plotting"
   ]
  },
  {
   "cell_type": "code",
   "execution_count": 7,
   "id": "f5c0d616-b47b-4aab-ae64-87e2d85144e5",
   "metadata": {},
   "outputs": [
    {
     "name": "stderr",
     "output_type": "stream",
     "text": [
      "/usr/local/bin/venv/4h_plotting/lib/python3.8/site-packages/bokeh/io/saving.py:142: UserWarning: save() called but no resources were supplied and output_file(...) was never called, defaulting to resources.CDN\n",
      "  warn(\"save() called but no resources were supplied and output_file(...) was never called, defaulting to resources.CDN\")\n",
      "/usr/local/bin/venv/4h_plotting/lib/python3.8/site-packages/bokeh/io/saving.py:154: UserWarning: save() called but no title was supplied and output_file(...) was never called, using default title 'Bokeh Plot'\n",
      "  warn(\"save() called but no title was supplied and output_file(...) was never called, using default title 'Bokeh Plot'\")\n"
     ]
    }
   ],
   "source": [
    "def make_line_plot(title, x_axis, y_axis, df, line_column):\n",
    "    p = figure(title=title, x_axis_label=x_axis, y_axis_label=y_axis, width=1600, height=900)\n",
    "    col_names = list(set(df[line_column].values))\n",
    "    legend_item_list = []\n",
    "    for col_ind, col in enumerate(col_names):\n",
    "        color = Turbo256[round(256*col_ind/len(col_names))]\n",
    "        df_filtered = df[df[line_column] == col]\n",
    "        line = p.line(x=df_filtered[x_axis], y=df_filtered[y_axis], name=col, line_color=color)\n",
    "        legend_item_list.append((col, [line]))\n",
    "    legend = Legend(items=legend_item_list)\n",
    "    legend.click_policy = 'hide'\n",
    "    p.add_layout(legend, 'right')\n",
    "    save(p, os.path.join(os.getcwd(),f\"{title.title().replace(' ', '')}.html\"))\n",
    "    \n",
    "make_line_plot(\"Total Crop Production per Year in Alberta\", \"Year\", 'Production (Million Tonnes)', crops_df, \"Crop\")\n",
    "make_line_plot(\"Crop Production per Year in Alberta\", \"Year\", 'Production (Million Tonnes)', crops_df_individual, \"Crop\")"
   ]
  },
  {
   "cell_type": "code",
   "execution_count": 20,
   "id": "3d4649ba-b924-4960-9dc5-840dcbb46060",
   "metadata": {},
   "outputs": [
    {
     "data": {
      "text/plain": [
       "('#1f77b4',\n",
       " '#aec7e8',\n",
       " '#ff7f0e',\n",
       " '#ffbb78',\n",
       " '#2ca02c',\n",
       " '#98df8a',\n",
       " '#d62728',\n",
       " '#ff9896',\n",
       " '#9467bd',\n",
       " '#c5b0d5',\n",
       " '#8c564b',\n",
       " '#c49c94',\n",
       " '#e377c2',\n",
       " '#f7b6d2',\n",
       " '#7f7f7f',\n",
       " '#c7c7c7',\n",
       " '#bcbd22',\n",
       " '#dbdb8d',\n",
       " '#17becf',\n",
       " '#9edae5')"
      ]
     },
     "execution_count": 20,
     "metadata": {},
     "output_type": "execute_result"
    }
   ],
   "source": [
    "Category20[20]"
   ]
  },
  {
   "cell_type": "code",
   "execution_count": null,
   "id": "f29db438-5ad6-4fd2-985b-cea3ac76dfc2",
   "metadata": {},
   "outputs": [],
   "source": []
  }
 ],
 "metadata": {
  "kernelspec": {
   "display_name": "4h_plotting",
   "language": "python",
   "name": "4h_plotting"
  },
  "language_info": {
   "codemirror_mode": {
    "name": "ipython",
    "version": 3
   },
   "file_extension": ".py",
   "mimetype": "text/x-python",
   "name": "python",
   "nbconvert_exporter": "python",
   "pygments_lexer": "ipython3",
   "version": "3.8.5"
  }
 },
 "nbformat": 4,
 "nbformat_minor": 5
}
