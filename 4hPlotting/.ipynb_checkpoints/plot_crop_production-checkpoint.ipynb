{
 "cells": [
  {
   "cell_type": "markdown",
   "id": "9ecc8d1b-e775-4178-a7c8-149b5f4b2db5",
   "metadata": {},
   "source": [
    "## Gathering csv data"
   ]
  },
  {
   "cell_type": "code",
   "execution_count": 10,
   "id": "28082413-afe7-4aa6-85bd-67e8e61455ef",
   "metadata": {},
   "outputs": [],
   "source": [
    "import os\n",
    "import pandas as pd\n",
    "from bokeh.plotting import figure, show\n",
    "from bokeh.models import ColumnDataSource"
   ]
  },
  {
   "cell_type": "code",
   "execution_count": 4,
   "id": "781e2cbf-b703-401d-b9ef-64839a88471e",
   "metadata": {},
   "outputs": [
    {
     "data": {
      "text/plain": [
       "['.ipynb_checkpoints',\n",
       " 'plot_crop_production.ipynb',\n",
       " 'stcmajorcropproductioncsvv6.02015-06-08.csv']"
      ]
     },
     "execution_count": 4,
     "metadata": {},
     "output_type": "execute_result"
    }
   ],
   "source": [
    "files = os.listdir(os.getcwd())\n",
    "files"
   ]
  },
  {
   "cell_type": "code",
   "execution_count": 5,
   "id": "71aa662d-70cc-4547-8e33-6c91ceacf5cf",
   "metadata": {},
   "outputs": [],
   "source": [
    "# This is bad, I should not be hardcoding this\n",
    "csv_file = files[2]"
   ]
  },
  {
   "cell_type": "code",
   "execution_count": 6,
   "id": "d4349b5c-9f99-4346-8361-ba6d8663ae42",
   "metadata": {},
   "outputs": [],
   "source": [
    "crops_df = pd.read_csv(csv_file)"
   ]
  },
  {
   "cell_type": "code",
   "execution_count": 7,
   "id": "8f374c59-56cf-43b5-9e46-9a5507c4caf3",
   "metadata": {},
   "outputs": [
    {
     "data": {
      "text/html": [
       "<div>\n",
       "<style scoped>\n",
       "    .dataframe tbody tr th:only-of-type {\n",
       "        vertical-align: middle;\n",
       "    }\n",
       "\n",
       "    .dataframe tbody tr th {\n",
       "        vertical-align: top;\n",
       "    }\n",
       "\n",
       "    .dataframe thead th {\n",
       "        text-align: right;\n",
       "    }\n",
       "</style>\n",
       "<table border=\"1\" class=\"dataframe\">\n",
       "  <thead>\n",
       "    <tr style=\"text-align: right;\">\n",
       "      <th></th>\n",
       "      <th>Year</th>\n",
       "      <th>Geography</th>\n",
       "      <th>Crop</th>\n",
       "      <th>Production (Million Tonnes)</th>\n",
       "      <th>notes</th>\n",
       "    </tr>\n",
       "  </thead>\n",
       "  <tbody>\n",
       "    <tr>\n",
       "      <th>0</th>\n",
       "      <td>2000</td>\n",
       "      <td>Alberta</td>\n",
       "      <td>Barley</td>\n",
       "      <td>5.27</td>\n",
       "      <td>NaN</td>\n",
       "    </tr>\n",
       "    <tr>\n",
       "      <th>1</th>\n",
       "      <td>2000</td>\n",
       "      <td>Alberta</td>\n",
       "      <td>Beans, all dry</td>\n",
       "      <td>0.04</td>\n",
       "      <td>NaN</td>\n",
       "    </tr>\n",
       "    <tr>\n",
       "      <th>2</th>\n",
       "      <td>2000</td>\n",
       "      <td>Alberta</td>\n",
       "      <td>Canary seed</td>\n",
       "      <td>0.01</td>\n",
       "      <td>NaN</td>\n",
       "    </tr>\n",
       "    <tr>\n",
       "      <th>3</th>\n",
       "      <td>2000</td>\n",
       "      <td>Alberta</td>\n",
       "      <td>Canola</td>\n",
       "      <td>2.19</td>\n",
       "      <td>NaN</td>\n",
       "    </tr>\n",
       "    <tr>\n",
       "      <th>4</th>\n",
       "      <td>2000</td>\n",
       "      <td>Alberta</td>\n",
       "      <td>Chick peas</td>\n",
       "      <td>0.02</td>\n",
       "      <td>NaN</td>\n",
       "    </tr>\n",
       "    <tr>\n",
       "      <th>...</th>\n",
       "      <td>...</td>\n",
       "      <td>...</td>\n",
       "      <td>...</td>\n",
       "      <td>...</td>\n",
       "      <td>...</td>\n",
       "    </tr>\n",
       "    <tr>\n",
       "      <th>332</th>\n",
       "      <td>2014</td>\n",
       "      <td>Alberta</td>\n",
       "      <td>Wheat, all</td>\n",
       "      <td>9.35</td>\n",
       "      <td>NaN</td>\n",
       "    </tr>\n",
       "    <tr>\n",
       "      <th>333</th>\n",
       "      <td>2014</td>\n",
       "      <td>Alberta</td>\n",
       "      <td>Wheat, durum</td>\n",
       "      <td>0.71</td>\n",
       "      <td>NaN</td>\n",
       "    </tr>\n",
       "    <tr>\n",
       "      <th>334</th>\n",
       "      <td>2014</td>\n",
       "      <td>Alberta</td>\n",
       "      <td>Wheat, spring</td>\n",
       "      <td>8.37</td>\n",
       "      <td>NaN</td>\n",
       "    </tr>\n",
       "    <tr>\n",
       "      <th>335</th>\n",
       "      <td>2014</td>\n",
       "      <td>Alberta</td>\n",
       "      <td>Wheat, winter</td>\n",
       "      <td>0.27</td>\n",
       "      <td>NaN</td>\n",
       "    </tr>\n",
       "    <tr>\n",
       "      <th>336</th>\n",
       "      <td>2014</td>\n",
       "      <td>Alberta</td>\n",
       "      <td>Total - All Crops</td>\n",
       "      <td>30.17</td>\n",
       "      <td>NaN</td>\n",
       "    </tr>\n",
       "  </tbody>\n",
       "</table>\n",
       "<p>337 rows × 5 columns</p>\n",
       "</div>"
      ],
      "text/plain": [
       "     Year Geography               Crop  Production (Million Tonnes)  notes\n",
       "0    2000   Alberta            Barley                          5.27    NaN\n",
       "1    2000   Alberta     Beans, all dry                         0.04    NaN\n",
       "2    2000   Alberta        Canary seed                         0.01    NaN\n",
       "3    2000   Alberta            Canola                          2.19    NaN\n",
       "4    2000   Alberta         Chick peas                         0.02    NaN\n",
       "..    ...       ...                ...                          ...    ...\n",
       "332  2014   Alberta        Wheat, all                          9.35    NaN\n",
       "333  2014   Alberta      Wheat, durum                          0.71    NaN\n",
       "334  2014   Alberta     Wheat, spring                          8.37    NaN\n",
       "335  2014   Alberta      Wheat, winter                         0.27    NaN\n",
       "336  2014   Alberta  Total - All Crops                        30.17    NaN\n",
       "\n",
       "[337 rows x 5 columns]"
      ]
     },
     "execution_count": 7,
     "metadata": {},
     "output_type": "execute_result"
    }
   ],
   "source": [
    "crops_df"
   ]
  },
  {
   "cell_type": "markdown",
   "id": "a9cf36af-15ae-4aeb-9e4e-cf815be5ba03",
   "metadata": {},
   "source": [
    "## Do the Plotting"
   ]
  },
  {
   "cell_type": "code",
   "execution_count": 15,
   "id": "8a9f7f27-9787-489e-b6ba-03e90e93ca92",
   "metadata": {},
   "outputs": [
    {
     "name": "stderr",
     "output_type": "stream",
     "text": [
      "/usr/local/bin/venv/4h_plotting/lib/python3.8/site-packages/bokeh/models/plots.py:815: UserWarning: \n",
      "You are attempting to set `plot.legend.location` on a plot that has zero legends added, this will have no effect.\n",
      "\n",
      "Before legend properties can be set, you must add a Legend explicitly, or call a glyph method with a legend parameter set.\n",
      "\n",
      "  warnings.warn(_LEGEND_EMPTY_WARNING % attr)\n"
     ]
    }
   ],
   "source": [
    "p = figure(title=\"Crop production per year in Alberta\", x_axis_label='Year', y_axis_label='Production (Million Tonnes)')\n"
   ]
  },
  {
   "cell_type": "code",
   "execution_count": 16,
   "id": "f5c0d616-b47b-4aab-ae64-87e2d85144e5",
   "metadata": {},
   "outputs": [],
   "source": [
    "for crop in list(set(crops_df['Crop'].values)):\n",
    "    crop_df = crops_df[crops_df['Crop'] == crop]\n",
    "    p.line(x=crop_df['Year'], y=crop_df['Production (Million Tonnes)'], name=crop)\n",
    "p.legend.location = \"top_left\"\n",
    "show(p)"
   ]
  },
  {
   "cell_type": "code",
   "execution_count": null,
   "id": "3d4649ba-b924-4960-9dc5-840dcbb46060",
   "metadata": {},
   "outputs": [],
   "source": []
  }
 ],
 "metadata": {
  "kernelspec": {
   "display_name": "4h_plotting",
   "language": "python",
   "name": "4h_plotting"
  },
  "language_info": {
   "codemirror_mode": {
    "name": "ipython",
    "version": 3
   },
   "file_extension": ".py",
   "mimetype": "text/x-python",
   "name": "python",
   "nbconvert_exporter": "python",
   "pygments_lexer": "ipython3",
   "version": "3.8.5"
  }
 },
 "nbformat": 4,
 "nbformat_minor": 5
}
