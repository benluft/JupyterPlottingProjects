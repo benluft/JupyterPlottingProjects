{
 "cells": [
  {
   "cell_type": "code",
   "execution_count": 3,
   "id": "growing-shelter",
   "metadata": {},
   "outputs": [],
   "source": [
    "import json\n",
    "import os\n",
    "from bokeh.plotting import figure, output_file, show\n",
    "from bokeh.models import ColumnDataSource, LabelSet, CategoricalColorMapper\n",
    "from bokeh.layouts import column\n",
    "from bokeh.io import save"
   ]
  },
  {
   "cell_type": "code",
   "execution_count": 4,
   "id": "emotional-eating",
   "metadata": {},
   "outputs": [],
   "source": [
    "root = os.getcwd()"
   ]
  },
  {
   "cell_type": "code",
   "execution_count": 5,
   "id": "higher-bench",
   "metadata": {},
   "outputs": [],
   "source": [
    "with open(os.path.join(root, 'jsons', 'stockRatiosTTM.json')) as f:\n",
    "    ratios_ttm_json = json.load(f)"
   ]
  },
  {
   "cell_type": "code",
   "execution_count": 6,
   "id": "sunset-support",
   "metadata": {},
   "outputs": [
    {
     "name": "stdout",
     "output_type": "stream",
     "text": [
      "Companies with Quick Ratio: 17\n",
      "Companies with Operating Profit Margin: 8\n",
      "Companies with both Quick Ratio and Operating Profit Margin: 8\n"
     ]
    }
   ],
   "source": [
    "def make_comparison_scatter_plot(x_axis, y_axis):\n",
    "    # x_axis and y_axis: tuple with 2 values, the first is the value in the json, the second is a pretified version\n",
    "    x_list = []\n",
    "    y_list = []\n",
    "    names_list = []\n",
    "    x_tickers = 0\n",
    "    y_tickers = 0\n",
    "    both_tickers = 0\n",
    "    for ticker, data in ratios_ttm_json.items():\n",
    "        data = data[0]\n",
    "        if data[x_axis[0]]:\n",
    "            x_tickers += 1\n",
    "        if data[y_axis[0]]:\n",
    "            y_tickers += 1\n",
    "        if data[x_axis[0]] and data[y_axis[0]]:\n",
    "            both_tickers += 1\n",
    "            x_list.append(data[x_axis[0]])\n",
    "            y_list.append(data[y_axis[0]])\n",
    "            names_list.append(ticker)\n",
    "\n",
    "    print(f\"Companies with {x_axis[1]}: {x_tickers}\")\n",
    "    print(f\"Companies with {y_axis[1]}: {y_tickers}\")\n",
    "    print(f\"Companies with both {x_axis[1]} and {y_axis[1]}: {both_tickers}\")\n",
    "    source = ColumnDataSource(data={f\"{x_axis[1]}\": x_list,\n",
    "                                    f\"{y_axis[1]}\": y_list,\n",
    "                                    \"Tickers\": names_list})\n",
    "    p = figure(title=f\"{y_axis[1]} TTM vs {x_axis[1]} TTM of Prominent Gold Stocks\")\n",
    "    p.scatter(x=x_axis[1], y=y_axis[1], source=source)\n",
    "    p.xaxis.axis_label = x_axis[1]\n",
    "    p.yaxis.axis_label = y_axis[1]\n",
    "    labels = LabelSet(x=x_axis[1], y=y_axis[1], text=\"Tickers\", source=source, x_offset=5, y_offset=5)\n",
    "    p.add_layout(labels)\n",
    "    show(p)\n",
    "make_comparison_scatter_plot((\"quickRatioTTM\", \"Quick Ratio\"), ('operatingProfitMarginTTM', \"Operating Profit Margin\"))"
   ]
  },
  {
   "cell_type": "markdown",
   "id": "selective-adventure",
   "metadata": {},
   "source": [
    "## Finding how many of each stats are available"
   ]
  },
  {
   "cell_type": "code",
   "execution_count": 18,
   "id": "bizarre-manitoba",
   "metadata": {},
   "outputs": [
    {
     "data": {
      "text/plain": [
       "[{'dividendYielTTM': None,\n",
       "  'dividendYielPercentageTTM': None,\n",
       "  'peRatioTTM': 3.5590143,\n",
       "  'pegRatioTTM': 0.06952493051162789,\n",
       "  'payoutRatioTTM': None,\n",
       "  'currentRatioTTM': 2.357718536887787,\n",
       "  'quickRatioTTM': 1.494730316181029,\n",
       "  'cashRatioTTM': 1.2151270923744575,\n",
       "  'daysOfSalesOutstandingTTM': 17.415890816758356,\n",
       "  'daysOfInventoryOutstandingTTM': 83.57507754059478,\n",
       "  'operatingCycleTTM': 87.86940678308314,\n",
       "  'daysOfPayablesOutstandingTTM': 70.05655902207626,\n",
       "  'cashConversionCycleTTM': -32.03311483914385,\n",
       "  'grossProfitMarginTTM': 0.4201227253491325,\n",
       "  'operatingProfitMarginTTM': 0.3909225560727888,\n",
       "  'pretaxProfitMarginTTM': 0.39060516292848074,\n",
       "  'netProfitMarginTTM': 0.28343207786711805,\n",
       "  'effectiveTaxRateTTM': 0.27437703141928493,\n",
       "  'returnOnAssetsTTM': 0.2088563187027364,\n",
       "  'returnOnEquityTTM': 0.27770291282263915,\n",
       "  'returnOnCapitalEmployedTTM': 0.3294988407347958,\n",
       "  'netIncomePerEBTTTM': 0.7256229685807151,\n",
       "  'ebtPerEbitTTM': 0.9991880920162381,\n",
       "  'ebitPerRevenueTTM': 0.3909225560727888,\n",
       "  'debtRatioTTM': 0.17034380603414673,\n",
       "  'debtEquityRatioTTM': 0.20531854914489758,\n",
       "  'longTermDebtToCapitalizationTTM': 0.0017821967920457742,\n",
       "  'totalDebtToCapitalizationTTM': 0.004210723308692804,\n",
       "  'interestCoverageTTM': 40.604395604395606,\n",
       "  'cashFlowToDebtRatioTTM': 101.77777777777777,\n",
       "  'companyEquityMultiplierTTM': 1.2053185491448977,\n",
       "  'receivablesTurnoverTTM': 20.957871396895786,\n",
       "  'payablesTurnoverTTM': 5.2100760456273765,\n",
       "  'inventoryTurnoverTTM': 4.367330677290837,\n",
       "  'fixedAssetTurnoverTTM': 1.1211006997983632,\n",
       "  'assetTurnoverTTM': 0.7368831371326109,\n",
       "  'operatingCashFlowPerShareTTM': 5.343100614586065,\n",
       "  'freeCashFlowPerShareTTM': 2.9468716490053275,\n",
       "  'cashPerShareTTM': 2.2865670752377047,\n",
       "  'operatingCashFlowSalesRatioTTM': 0.4845535336436733,\n",
       "  'freeCashFlowOperatingCashFlowRatioTTM': 0.551528384279476,\n",
       "  'cashFlowCoverageRatiosTTM': 101.77777777777777,\n",
       "  'shortTermCoverageRatiosTTM': 176.15384615384616,\n",
       "  'capitalExpenditureCoverageRatioTTM': -2.2297955209347613,\n",
       "  'dividendPaidAndCapexCoverageRatioTTM': None,\n",
       "  'priceBookValueRatioTTM': 1.1349059271847397,\n",
       "  'priceToBookRatioTTM': 1.1349059271847397,\n",
       "  'priceToSalesRatioTTM': 1.2777897669382141,\n",
       "  'priceEarningsRatioTTM': 4.508275056774916,\n",
       "  'priceToFreeCashFlowsRatioTTM': 4.7813415982185274,\n",
       "  'priceToOperatingCashFlowsRatioTTM': 2.6370456063537118,\n",
       "  'priceCashFlowRatioTTM': 2.6370456063537118,\n",
       "  'priceEarningsToGrowthRatioTTM': 0.06952493051162789,\n",
       "  'priceSalesRatioTTM': 1.2777897669382141,\n",
       "  'dividendYieldTTM': None,\n",
       "  'enterpriseValueMultipleTTM': 1.6676516043813587,\n",
       "  'priceFairValueTTM': 1.1349059271847397,\n",
       "  'dividendPerShareTTM': None}]"
      ]
     },
     "execution_count": 18,
     "metadata": {},
     "output_type": "execute_result"
    }
   ],
   "source": [
    "ratios_ttm_json.pop('TXG.TO')"
   ]
  },
  {
   "cell_type": "code",
   "execution_count": 16,
   "id": "frequent-prophet",
   "metadata": {
    "scrolled": true
   },
   "outputs": [
    {
     "data": {
      "text/plain": [
       "{'dividendYielTTM': 3,\n",
       " 'dividendYielPercentageTTM': 3,\n",
       " 'peRatioTTM': 17,\n",
       " 'pegRatioTTM': 17,\n",
       " 'payoutRatioTTM': 2,\n",
       " 'currentRatioTTM': 17,\n",
       " 'quickRatioTTM': 17,\n",
       " 'cashRatioTTM': 17,\n",
       " 'daysOfSalesOutstandingTTM': 8,\n",
       " 'daysOfInventoryOutstandingTTM': 5,\n",
       " 'operatingCycleTTM': 6,\n",
       " 'daysOfPayablesOutstandingTTM': 11,\n",
       " 'cashConversionCycleTTM': 6,\n",
       " 'grossProfitMarginTTM': 7,\n",
       " 'operatingProfitMarginTTM': 8,\n",
       " 'pretaxProfitMarginTTM': 9,\n",
       " 'netProfitMarginTTM': 9,\n",
       " 'effectiveTaxRateTTM': 9,\n",
       " 'returnOnAssetsTTM': 18,\n",
       " 'returnOnEquityTTM': 18,\n",
       " 'returnOnCapitalEmployedTTM': 17,\n",
       " 'netIncomePerEBTTTM': 18,\n",
       " 'ebtPerEbitTTM': 17,\n",
       " 'ebitPerRevenueTTM': 8,\n",
       " 'debtRatioTTM': 18,\n",
       " 'debtEquityRatioTTM': 18,\n",
       " 'longTermDebtToCapitalizationTTM': 13,\n",
       " 'totalDebtToCapitalizationTTM': 10,\n",
       " 'interestCoverageTTM': 13,\n",
       " 'cashFlowToDebtRatioTTM': 9,\n",
       " 'companyEquityMultiplierTTM': 18,\n",
       " 'receivablesTurnoverTTM': 8,\n",
       " 'payablesTurnoverTTM': 11,\n",
       " 'inventoryTurnoverTTM': 5,\n",
       " 'fixedAssetTurnoverTTM': 7,\n",
       " 'assetTurnoverTTM': 9,\n",
       " 'operatingCashFlowPerShareTTM': 17,\n",
       " 'freeCashFlowPerShareTTM': 17,\n",
       " 'cashPerShareTTM': 17,\n",
       " 'operatingCashFlowSalesRatioTTM': 8,\n",
       " 'freeCashFlowOperatingCashFlowRatioTTM': 17,\n",
       " 'cashFlowCoverageRatiosTTM': 9,\n",
       " 'shortTermCoverageRatiosTTM': 11,\n",
       " 'capitalExpenditureCoverageRatioTTM': 12,\n",
       " 'dividendPaidAndCapexCoverageRatioTTM': 2,\n",
       " 'priceBookValueRatioTTM': 17,\n",
       " 'priceToBookRatioTTM': 17,\n",
       " 'priceToSalesRatioTTM': 8,\n",
       " 'priceEarningsRatioTTM': 17,\n",
       " 'priceToFreeCashFlowsRatioTTM': 17,\n",
       " 'priceToOperatingCashFlowsRatioTTM': 17,\n",
       " 'priceCashFlowRatioTTM': 17,\n",
       " 'priceEarningsToGrowthRatioTTM': 17,\n",
       " 'priceSalesRatioTTM': 8,\n",
       " 'dividendYieldTTM': 2,\n",
       " 'enterpriseValueMultipleTTM': 17,\n",
       " 'priceFairValueTTM': 17,\n",
       " 'dividendPerShareTTM': 3}"
      ]
     },
     "execution_count": 16,
     "metadata": {},
     "output_type": "execute_result"
    }
   ],
   "source": [
    "ratios_dict = {}\n",
    "for ticker, data in ratios_ttm_json.items():\n",
    "    data = data[0]\n",
    "    for key, item in data.items():\n",
    "        if key not in ratios_dict:\n",
    "            ratios_dict[key] = 0\n",
    "        if item:\n",
    "            ratios_dict[key] += 1\n",
    "ratios_dict"
   ]
  },
  {
   "cell_type": "code",
   "execution_count": 20,
   "id": "accompanied-positive",
   "metadata": {},
   "outputs": [
    {
     "data": {
      "text/plain": [
       "'/home/ben_luft/JupyterProjects/uraniumStocks/plots/ttm_ratio_bar_charts.html'"
      ]
     },
     "execution_count": 20,
     "metadata": {},
     "output_type": "execute_result"
    }
   ],
   "source": [
    "width = 1700\n",
    "height = 800\n",
    "def make_bar_charts_for_ratios(ratios_list):\n",
    "    \"\"\"\n",
    "    ratios_list is a list of tuples, the first one is the ratio name in the json, the second one is the clean name, the third one is true if a higher number is 'better'\n",
    "    \"\"\"\n",
    "    figures_list = []\n",
    "    for ratio in ratios_list:\n",
    "        ratio_values_list = []\n",
    "        ticker_list = []\n",
    "        for ticker, data in ratios_ttm_json.items():\n",
    "            data = data[0]\n",
    "            ratio_value = data[ratio[0]]\n",
    "            if ratio_value:\n",
    "                ratio_values_list.append(ratio_value)\n",
    "                ticker_list.append(ticker)\n",
    "        sorted_tickers_list = sorted(ticker_list, key=lambda x: -ratio_values_list[ticker_list.index(x)])\n",
    "        if not ratio[2]:\n",
    "            sorted_tickers_list.reverse()\n",
    "        # Only take the best 20 stocks for each ratio\n",
    "        end_index = 20 if len(sorted_tickers_list) >= 20 else len(sorted_tickers_list)\n",
    "        sorted_tickers_list = sorted_tickers_list[0:end_index]\n",
    "        accepted_indexes = []\n",
    "        for ind, val in enumerate(ticker_list):\n",
    "            if val in sorted_tickers_list:\n",
    "                accepted_indexes.append(ind)\n",
    "        ticker_list = [ticker_list[i] for i in accepted_indexes]\n",
    "        ratio_values_list = [ratio_values_list[i] for i in accepted_indexes]\n",
    "        color_mapper = CategoricalColorMapper(factors=['CCJ'], palette=[\"green\"], nan_color=\"blue\")\n",
    "        p = figure(width=width, height=height, x_range=sorted_tickers_list, title=f\"{ratio[1]} TTM for Uranium Stocks\")\n",
    "        source = ColumnDataSource({\"Ticker\": ticker_list,\n",
    "                                   ratio[1]: ratio_values_list})\n",
    "        p.vbar(x=\"Ticker\", top=ratio[1], width=0.9, fill_color={'field': 'Ticker', 'transform': color_mapper}, source=source)\n",
    "        figures_list.append(p)\n",
    "#     show(column(figures_list))\n",
    "    return column(figures_list)\n",
    "    \n",
    "    \n",
    "f = make_bar_charts_for_ratios([(\"quickRatioTTM\", \"Quick Ratio\", True), \n",
    "                                    ('operatingProfitMarginTTM', \"Operating Profit Margin\", True), \n",
    "                                    ('returnOnEquityTTM', \"Return On Equity\", True),\n",
    "                                    ('peRatioTTM', \"Price to Earnings\", False),\n",
    "                                   ('debtEquityRatioTTM', 'Debt to Equity', False),\n",
    "                                   ('dividendYielPercentageTTM', 'Dividend yield Percentage', True),\n",
    "                                    ('enterpriseValueMultipleTTM', 'Enterprise Multiple', True)])\n",
    "if not os.path.exists('plots'):\n",
    "    os.mkdir('plots')\n",
    "save(f, os.path.join(root, 'plots', \"ttm_ratio_bar_charts.html\"))\n",
    "\n",
    "            "
   ]
  },
  {
   "cell_type": "code",
   "execution_count": 57,
   "id": "dedicated-trunk",
   "metadata": {},
   "outputs": [
    {
     "name": "stdout",
     "output_type": "stream",
     "text": [
      "66\n"
     ]
    }
   ],
   "source": [
    "print(len(ratios_ttm_json))"
   ]
  },
  {
   "cell_type": "code",
   "execution_count": null,
   "id": "therapeutic-quantum",
   "metadata": {},
   "outputs": [],
   "source": []
  }
 ],
 "metadata": {
  "kernelspec": {
   "display_name": "Python 3",
   "language": "python",
   "name": "python3"
  },
  "language_info": {
   "codemirror_mode": {
    "name": "ipython",
    "version": 3
   },
   "file_extension": ".py",
   "mimetype": "text/x-python",
   "name": "python",
   "nbconvert_exporter": "python",
   "pygments_lexer": "ipython3",
   "version": "3.8.5"
  }
 },
 "nbformat": 4,
 "nbformat_minor": 5
}
